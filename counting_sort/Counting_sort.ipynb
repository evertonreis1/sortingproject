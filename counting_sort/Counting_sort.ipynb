{
  "nbformat": 4,
  "nbformat_minor": 0,
  "metadata": {
    "colab": {
      "provenance": []
    },
    "kernelspec": {
      "name": "python3",
      "display_name": "Python 3"
    },
    "language_info": {
      "name": "python"
    }
  },
  "cells": [
    {
      "cell_type": "markdown",
      "source": [
        "\n",
        "# **Counting Sort**\n"
      ],
      "metadata": {
        "id": "LEfHUCCC1v_Y"
      }
    },
    {
      "cell_type": "markdown",
      "source": [
        "Importação da biblioteca Pandas:"
      ],
      "metadata": {
        "id": "3NV-_hqI1c8t"
      }
    },
    {
      "cell_type": "code",
      "source": [
        "import pandas as pd"
      ],
      "metadata": {
        "id": "A4LDLCso1eNy"
      },
      "execution_count": null,
      "outputs": []
    },
    {
      "cell_type": "markdown",
      "source": [
        "---"
      ],
      "metadata": {
        "id": "LvPbkRG77pY2"
      }
    },
    {
      "cell_type": "markdown",
      "source": [
        "Importação da biblioteca para importar dados do drive"
      ],
      "metadata": {
        "id": "amOgqlMI2Aad"
      }
    },
    {
      "cell_type": "code",
      "source": [
        "from google.colab import drive\n",
        "drive.mount('/content/drive')"
      ],
      "metadata": {
        "colab": {
          "base_uri": "https://localhost:8080/"
        },
        "id": "3v9kkdcD2Ay4",
        "outputId": "afde9e93-8849-43d8-830b-2e76c76fdad1"
      },
      "execution_count": null,
      "outputs": [
        {
          "output_type": "stream",
          "name": "stdout",
          "text": [
            "Mounted at /content/drive\n"
          ]
        }
      ]
    },
    {
      "cell_type": "markdown",
      "source": [
        "---"
      ],
      "metadata": {
        "id": "rNmHrPLp7qx9"
      }
    },
    {
      "cell_type": "markdown",
      "source": [
        "Importação de dados do Drive"
      ],
      "metadata": {
        "id": "L_6hRwm_7vS0"
      }
    },
    {
      "cell_type": "code",
      "source": [
        "data = pd.read_csv('/content/drive/MyDrive/Google-Playstore.csv')"
      ],
      "metadata": {
        "id": "aMLShVlh5si-"
      },
      "execution_count": 74,
      "outputs": []
    },
    {
      "cell_type": "markdown",
      "source": [
        "---"
      ],
      "metadata": {
        "id": "mPUH_EVD8BPd"
      }
    },
    {
      "cell_type": "markdown",
      "source": [
        "Colunas:"
      ],
      "metadata": {
        "id": "BcSEUK9QEQmV"
      }
    },
    {
      "cell_type": "code",
      "source": [
        "print(data.columns)"
      ],
      "metadata": {
        "colab": {
          "base_uri": "https://localhost:8080/"
        },
        "id": "7DzWa-Wg9Ay_",
        "outputId": "e04ce7b0-32db-4fae-f1ef-3e444a609973"
      },
      "execution_count": null,
      "outputs": [
        {
          "output_type": "stream",
          "name": "stdout",
          "text": [
            "Index(['App Name', 'App Id', 'Category', 'Rating', 'Rating Count', 'Installs',\n",
            "       'Minimum Installs', 'Maximum Installs', 'Free', 'Price', 'Currency',\n",
            "       'Size', 'Minimum Android', 'Developer Id', 'Developer Website',\n",
            "       'Developer Email', 'Released', 'Last Updated', 'Content Rating',\n",
            "       'Privacy Policy', 'Ad Supported', 'In App Purchases', 'Editors Choice',\n",
            "       'Scraped Time'],\n",
            "      dtype='object')\n"
          ]
        }
      ]
    },
    {
      "cell_type": "markdown",
      "source": [
        "---"
      ],
      "metadata": {
        "id": "tGSR-oWTEOjn"
      }
    },
    {
      "cell_type": "markdown",
      "source": [
        "Lista que recebe os valores da coluna **Rating Count**:"
      ],
      "metadata": {
        "id": "NNxYG56_EGH3"
      }
    },
    {
      "cell_type": "code",
      "source": [
        "lista = []\n",
        "\n",
        "for d in data['Rating Count']:\n",
        "    if isinstance(d, float) and str(d) != 'nan':\n",
        "        lista.append(int(d))\n",
        "    else:\n",
        "        lista.append(0)"
      ],
      "metadata": {
        "id": "TF-lEMhABwDY"
      },
      "execution_count": 27,
      "outputs": []
    },
    {
      "cell_type": "markdown",
      "source": [
        "---"
      ],
      "metadata": {
        "id": "pNDUgV-ZEVbG"
      }
    },
    {
      "cell_type": "markdown",
      "source": [
        "**Algoritmo de ordenação em contagem:**"
      ],
      "metadata": {
        "id": "HvZCl9TuQePp"
      }
    },
    {
      "cell_type": "code",
      "source": [
        "def counting_sort(l):\n",
        "    counting_values = [0] * (max(l) + 1)\n",
        "    for number in l:\n",
        "        counting_values[number] += 1\n",
        "\n",
        "    positions = [0] * len(l)\n",
        "    current = 0\n",
        "\n",
        "    for index, value in enumerate(counting_values):\n",
        "        for pos in range(value):\n",
        "            positions[current] = index\n",
        "            current += 1\n",
        "\n",
        "    return positions"
      ],
      "metadata": {
        "id": "ydUGxxHOQpzp"
      },
      "execution_count": 69,
      "outputs": []
    },
    {
      "cell_type": "markdown",
      "source": [
        "### Análise de código:\n",
        "\n",
        "---- Considere **```n```** como o tamanho da lista **```l```**, que é parâmetro da função.\n",
        "\n",
        "> Na linha 2, deste trecho, tem-se:\n",
        "```\n",
        "counting_values = [0] * (max(l) + 1)\n",
        "```\n",
        "> A quantidade de passos é determinada pelo tamanho da lista, ou seja, ```n``` passos.\n",
        "\n",
        "> Em sequência, tem-se:\n",
        "```\n",
        "for number in l:\n",
        "    counting_values[number] += 1\n",
        "```\n",
        "> Aqui, para cada número em ```l```, faz se umaz soma, totalizando também ```n``` passos.\n",
        "\n",
        "> Depois, outra atribuição semelhante, de ```n``` passos:\n",
        "```\n",
        "positions = [0] * len(l)\n",
        "current = 0\n",
        "```\n",
        "\n",
        "> Por fim, tem-se:\n",
        "```\n",
        "for index, value in enumerate(counting_values):\n",
        "    for pos in range(value):\n",
        "        positions[current] = index\n",
        "        current += 1\n",
        "```\n",
        "> Aqui, para cada ```len(n)``` operações, são realizdas ```k``` operações, onde ```k``` é o número do intervalo de valores da lista.\n",
        "\n",
        "Como o algoritmo depende apenas das duas contagens, sua complexidade é **```O(n+k)```**.\n",
        "\n"
      ],
      "metadata": {
        "id": "6Ybgaz_fxxpN"
      }
    },
    {
      "cell_type": "markdown",
      "source": [
        "---"
      ],
      "metadata": {
        "id": "HB_Vxw4-f7fR"
      }
    },
    {
      "cell_type": "markdown",
      "source": [
        "Atribuição dos elementos da lista em ordem com a **ordenação em contagem**:"
      ],
      "metadata": {
        "id": "Kwrg3gRtjG0m"
      }
    },
    {
      "cell_type": "code",
      "source": [
        "sorted_elements = counting_sort(lista)"
      ],
      "metadata": {
        "id": "ekwAjezpolwB"
      },
      "execution_count": 21,
      "outputs": []
    },
    {
      "cell_type": "markdown",
      "source": [
        "---"
      ],
      "metadata": {
        "id": "Txi30o8kj4Ij"
      }
    },
    {
      "cell_type": "markdown",
      "source": [
        "O tempo de execução foi:"
      ],
      "metadata": {
        "id": "zBKNnJMWs4d4"
      }
    },
    {
      "cell_type": "code",
      "source": [
        "import time\n",
        "import matplotlib.pyplot as plot"
      ],
      "metadata": {
        "id": "Z3GPSoNdr6Ga"
      },
      "execution_count": null,
      "outputs": []
    },
    {
      "cell_type": "code",
      "source": [
        "start = time.process_time()\n",
        "counting_sort(lista)\n",
        "end = time.process_time()\n",
        "\n",
        "print(\"Tempo de execução: {:.5f} segundos\".format(end-start))"
      ],
      "metadata": {
        "colab": {
          "base_uri": "https://localhost:8080/"
        },
        "id": "htqgZaf68I_l",
        "outputId": "46f6ef24-1252-42cd-ebc7-c10c29dad238"
      },
      "execution_count": null,
      "outputs": [
        {
          "output_type": "stream",
          "name": "stdout",
          "text": [
            "Tempo de execução: 23.82882 segundos\n"
          ]
        }
      ]
    },
    {
      "cell_type": "markdown",
      "source": [
        "---"
      ],
      "metadata": {
        "id": "LMy-gNmHJC2q"
      }
    },
    {
      "cell_type": "markdown",
      "source": [
        "Adicionando uma nova coluna no dataframe com os valores ordenados:"
      ],
      "metadata": {
        "id": "SxyrlJsQIas0"
      }
    },
    {
      "cell_type": "code",
      "source": [
        "data['Sorted Rating Count'] = counting_sort(lista)"
      ],
      "metadata": {
        "id": "L89mEyWKIiMh"
      },
      "execution_count": 66,
      "outputs": []
    },
    {
      "cell_type": "markdown",
      "source": [
        "---"
      ],
      "metadata": {
        "id": "Jj4HdztuLvTE"
      }
    },
    {
      "cell_type": "markdown",
      "source": [
        "Ordenando o dataframe com base na coluna \"Rating Count\":"
      ],
      "metadata": {
        "id": "q6PMY959Iq4Z"
      }
    },
    {
      "cell_type": "code",
      "source": [
        "data = data.sort_values(by=\"Rating Count\")"
      ],
      "metadata": {
        "id": "kCEO_66_IrOo"
      },
      "execution_count": 77,
      "outputs": []
    },
    {
      "cell_type": "markdown",
      "source": [
        "---"
      ],
      "metadata": {
        "id": "TdDXGbPwLyV8"
      }
    },
    {
      "cell_type": "markdown",
      "source": [
        "### Especificações de execução:\n",
        "\n",
        "- Sistema: Windows 7 Pro\n",
        "- Tipo SO: 64 bits\n",
        "- RAM: 2 GB\n",
        "- Ambiente: Google Colaboratory © 2023\n",
        "- Linguagem: Python 3\n",
        "- Análise de código: Manual\n",
        "- Tempo de execução total médio da função: 23s"
      ],
      "metadata": {
        "id": "q3A-SgY7JDcR"
      }
    }
  ]
}
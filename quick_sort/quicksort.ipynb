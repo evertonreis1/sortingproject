{
  "nbformat": 4,
  "nbformat_minor": 0,
  "metadata": {
    "colab": {
      "provenance": []
    },
    "kernelspec": {
      "name": "python3",
      "display_name": "Python 3"
    },
    "language_info": {
      "name": "python"
    }
  },
  "cells": [
    {
      "cell_type": "code",
      "execution_count": null,
      "metadata": {
        "colab": {
          "base_uri": "https://localhost:8080/"
        },
        "id": "yGplLkDahh4K",
        "outputId": "6d50fa23-04cc-4c24-b3af-1c74ccc11eaa"
      },
      "outputs": [
        {
          "output_type": "stream",
          "name": "stderr",
          "text": [
            "<ipython-input-10-f0f1bcac1b4e>:8: DtypeWarning: Columns (20,21,22) have mixed types. Specify dtype option on import or set low_memory=False.\n",
            "  df = pd.read_csv('/content/Google-Playstore.csv')\n"
          ]
        },
        {
          "output_type": "stream",
          "name": "stdout",
          "text": [
            "                          0\n",
            "0       2021-06-15 20:19:35\n",
            "1       2021-06-15 20:19:35\n",
            "2       2021-06-15 20:19:35\n",
            "3       2021-06-15 20:19:35\n",
            "4       2021-06-15 20:19:35\n",
            "...                     ...\n",
            "734934                 None\n",
            "734935                 None\n",
            "734936                 None\n",
            "734937                 None\n",
            "734938                 None\n",
            "\n",
            "[734939 rows x 1 columns]\n"
          ]
        }
      ],
      "source": [
        "import pandas as pd\n",
        "import sys\n",
        "\n",
        "# Define o limite máximo de chamadas recursivas\n",
        "sys.setrecursionlimit(1000) \n",
        "\n",
        "# Carrega o arquivo CSV em um dataframe do pandas\n",
        "df = pd.read_csv('/content/Google-Playstore.csv')\n",
        "\n",
        "# Separa as colunas com base na vírgula\n",
        "df = df['Scraped Time'].apply(lambda x: pd.Series(str(x).split(',')))\n",
        "\n",
        "# Define a função quicksort\n",
        "def quicksort(arr, depth):\n",
        "    # Caso base: se a lista tiver tamanho 1 ou menor, já está ordenada\n",
        "    if len(arr) <= 1:\n",
        "        return arr\n",
        "    \n",
        "    # Verifica se o limite máximo de profundidade da recursão foi atingido\n",
        "    if depth <= 0:\n",
        "        return []\n",
        "    \n",
        "    # Seleciona o primeiro elemento como pivô\n",
        "    pivot = arr[0]\n",
        "    left = []\n",
        "    right = []\n",
        "    # Percorre o restante da lista, colocando os elementos menores que o pivô à esquerda e os maiores à direita\n",
        "    for item in arr[1:]:\n",
        "        if item < pivot:\n",
        "            left.append(item)\n",
        "        else:\n",
        "            right.append(item)\n",
        "    \n",
        "    # Ordena recursivamente a sublista à esquerda e a sublista à direita\n",
        "    left_sorted = quicksort(left, depth-1) \n",
        "    right_sorted = quicksort(right, depth-1)\n",
        "    \n",
        "    # Combina as sublistas ordenadas com o pivô central e retorna o resultado\n",
        "    return left_sorted + [pivot] + right_sorted\n",
        "\n",
        "# Aplica o quicksort em cada coluna do dataframe\n",
        "for col in df.columns:\n",
        "    # Ordena a coluna usando o quicksort e a profundidade máxima de recursão definida\n",
        "    sorted_col = quicksort(df[col].tolist(), depth=900) \n",
        "    # Preenche a lista resultante com None para ter o mesmo comprimento que o índice do DataFrame\n",
        "    sorted_col += [None] * (len(df) - len(sorted_col)) \n",
        "    # Substitui a coluna original do DataFrame pela lista ordenada resultante\n",
        "    df[col] = sorted_col \n",
        "\n",
        "# Imprime o DataFrame resultante\n",
        "print(df)\n",
        "\n"
      ]
    },
    {
      "cell_type": "markdown",
      "source": [
        "A função quicksort é uma implementação recursiva do algoritmo de ordenação quicksort. Ela seleciona um elemento como pivô, divide a lista em duas sub-listas (à esquerda os menores que o pivô e à direita os maiores que o pivô) e ordena recursivamente cada sublista. O pivô é adicionado no centro das duas sublistas ordenadas para obter a lista final ordenada. O limite máximo de profundidade da recursão é definido para evitar um possível estouro de pilha.\n",
        "\n",
        "Por fim, o código aplica a função quicksort em cada coluna do DataFrame e substitui a coluna original pela lista ordenada resultante. O DataFrame resultante é impresso na saída padrão."
      ],
      "metadata": {
        "id": "snkqLUDokrDM"
      }
    },
    {
      "cell_type": "markdown",
      "source": [],
      "metadata": {
        "id": "FKqiHH-0jtvR"
      }
    }
  ]
}